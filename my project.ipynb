{
  "metadata": {
    "kernelspec": {
      "name": "python",
      "display_name": "Python (Pyodide)",
      "language": "python"
    },
    "language_info": {
      "codemirror_mode": {
        "name": "python",
        "version": 3
      },
      "file_extension": ".py",
      "mimetype": "text/x-python",
      "name": "python",
      "nbconvert_exporter": "python",
      "pygments_lexer": "ipython3",
      "version": "3.8"
    }
  },
  "nbformat_minor": 5,
  "nbformat": 4,
  "cells": [
    {
      "id": "7feee8da",
      "cell_type": "markdown",
      "source": "# Data Science Tools and Ecosystem\n",
      "metadata": {}
    },
    {
      "id": "b7c02305",
      "cell_type": "markdown",
      "source": "\n## In this notebook, Data Science Tools and Ecosystem are summarized.",
      "metadata": {}
    },
    {
      "id": "b3517110",
      "cell_type": "markdown",
      "source": "## Objectives:\n\n- **List popular languages for Data Science.**\n- **Introduce key Data Science libraries.**\n- **Explore essential Data Science tools.**\n- **Demonstrate arithmetic expression examples in Python.**\n- **Convert minutes to hours using Python expressions.**\n",
      "metadata": {}
    },
    {
      "id": "b4a1efbf",
      "cell_type": "markdown",
      "source": "## Some of the popular languages that Data Scientists use are:\n\n1. **Python**\n2. **R**\n3. **SQL**\n",
      "metadata": {}
    },
    {
      "id": "fe0294c5",
      "cell_type": "markdown",
      "source": "Some of the commonly used libraries used by Data Scientists include:\n\n1. **NumPy:** \n\n2. **Pandas:**\n\n3. **Matplotlib:**",
      "metadata": {}
    },
    {
      "id": "80efbc8b",
      "cell_type": "markdown",
      "source": "\n\n| Data Science Tools |\n|--------------------|\n| Jupyter Notebooks  |\n| RStudio            |\n| VS Code            |\n",
      "metadata": {}
    },
    {
      "id": "b0528477",
      "cell_type": "markdown",
      "source": "### Below are a few examples of evaluating arithmetic expressions in Python:",
      "metadata": {}
    },
    {
      "id": "bc17818d",
      "cell_type": "code",
      "source": "# This is a simple arithmetic expression to multiply then add integers.\nresult = (3 * 4) + 5\nresult\n",
      "metadata": {},
      "outputs": [
        {
          "data": {
            "text/plain": [
              "17"
            ]
          },
          "execution_count": 1,
          "metadata": {},
          "output_type": "execute_result"
        }
      ],
      "execution_count": 1
    },
    {
      "id": "4039d09b",
      "cell_type": "code",
      "source": "# This will convert 200 minutes to hours by dividing by 60.\nhours_result = 200 / 60\nhours_result\n",
      "metadata": {},
      "outputs": [
        {
          "data": {
            "text/plain": [
              "3.3333333333333335"
            ]
          },
          "execution_count": 2,
          "metadata": {},
          "output_type": "execute_result"
        }
      ],
      "execution_count": 2
    },
    {
      "id": "b4a31fe1",
      "cell_type": "markdown",
      "source": "## Author\nFariba",
      "metadata": {}
    },
    {
      "id": "28c80158",
      "cell_type": "code",
      "source": "",
      "metadata": {},
      "outputs": [],
      "execution_count": null
    },
    {
      "id": "10348f45",
      "cell_type": "code",
      "source": "",
      "metadata": {},
      "outputs": [],
      "execution_count": null
    }
  ]
}